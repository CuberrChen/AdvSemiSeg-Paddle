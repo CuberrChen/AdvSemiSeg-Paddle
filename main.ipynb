{
 "cells": [
  {
   "cell_type": "markdown",
   "id": "c0e2f10b-881a-4504-aa95-6e732ab57dc5",
   "metadata": {},
   "source": [
    "# 项目说明\n",
    "\n",
    "**Reproduction of Paper \"Adversarial Learning for Semi-Supervised Semantic Segmentation\" with PaddlePaddle.**\n",
    "\n",
    "默认的配置是**ResNet101+Deeplabv2+VOC2012+1/8Label**\n",
    "\n",
    "**指标：70.4 miou**\n",
    "\n",
    "1、模型的设置在相应的代码中：\n",
    "- train.py中204行处;\n",
    "- evaluate.py中197行处;\n",
    "2、标签率设置：--labeled-ratio 0.125 表示1/8标签率\n",
    "\n",
    "3、训练指令和评估指令下方已经设置好\n",
    "\n",
    "**下面的代码一键可运行**\n",
    "\n",
    "4、评估结果存放在results中的txt文件中。"
   ]
  },
  {
   "cell_type": "markdown",
   "id": "84499698-eee4-496c-864f-46640c6c4097",
   "metadata": {},
   "source": [
    "## 数据集准备\n"
   ]
  },
  {
   "cell_type": "code",
   "execution_count": 1,
   "id": "7c1bc089-ac05-4132-9e1d-758781c6599e",
   "metadata": {
    "execution": {
     "iopub.execute_input": "2021-11-24T01:37:47.694150Z",
     "iopub.status.busy": "2021-11-24T01:37:47.693559Z",
     "iopub.status.idle": "2021-11-24T01:38:12.553526Z",
     "shell.execute_reply": "2021-11-24T01:38:12.552855Z",
     "shell.execute_reply.started": "2021-11-24T01:37:47.694115Z"
    }
   },
   "outputs": [],
   "source": [
    "#解压数据集\n",
    "!unzip -q data/data4379/pascalvoc.zip -d data/data4379/\n",
    "!unzip -q data/data117898/SegmentationClassAug.zip -d data/data4379/pascalvoc/VOCdevkit/VOC2012/"
   ]
  },
  {
   "cell_type": "code",
   "execution_count": 2,
   "id": "3baf7acb-9a89-4007-a073-f16e7e0f44e3",
   "metadata": {
    "execution": {
     "iopub.execute_input": "2021-11-24T01:38:16.602462Z",
     "iopub.status.busy": "2021-11-24T01:38:16.601550Z",
     "iopub.status.idle": "2021-11-24T01:38:16.607406Z",
     "shell.execute_reply": "2021-11-24T01:38:16.606778Z",
     "shell.execute_reply.started": "2021-11-24T01:38:16.602426Z"
    }
   },
   "outputs": [
    {
     "name": "stdout",
     "output_type": "stream",
     "text": [
      "/home/aistudio/advSemiSeg\n"
     ]
    }
   ],
   "source": [
    "%cd advSemiSeg/"
   ]
  },
  {
   "cell_type": "markdown",
   "id": "48a86efc-d090-4598-a35e-1f430799b7eb",
   "metadata": {},
   "source": [
    "## 训练advSemiSeg"
   ]
  },
  {
   "cell_type": "code",
   "execution_count": 4,
   "id": "81ec3d12-6485-4995-bdac-e8c1951268ea",
   "metadata": {
    "execution": {
     "iopub.execute_input": "2021-11-24T01:41:56.392129Z",
     "iopub.status.busy": "2021-11-24T01:41:56.391228Z",
     "iopub.status.idle": "2021-11-24T01:42:13.990836Z",
     "shell.execute_reply": "2021-11-24T01:42:13.989910Z",
     "shell.execute_reply.started": "2021-11-24T01:41:56.392096Z"
    }
   },
   "outputs": [
    {
     "name": "stdout",
     "output_type": "stream",
     "text": [
      "/opt/conda/envs/python35-paddle120-env/lib/python3.7/site-packages/matplotlib/__init__.py:107: DeprecationWarning: Using or importing the ABCs from 'collections' instead of from 'collections.abc' is deprecated, and in 3.8 it will stop working\n",
      "  from collections import MutableMapping\n",
      "/opt/conda/envs/python35-paddle120-env/lib/python3.7/site-packages/matplotlib/rcsetup.py:20: DeprecationWarning: Using or importing the ABCs from 'collections' instead of from 'collections.abc' is deprecated, and in 3.8 it will stop working\n",
      "  from collections import Iterable, Mapping\n",
      "/opt/conda/envs/python35-paddle120-env/lib/python3.7/site-packages/matplotlib/colors.py:53: DeprecationWarning: Using or importing the ABCs from 'collections' instead of from 'collections.abc' is deprecated, and in 3.8 it will stop working\n",
      "  from collections import Sized\n",
      "2021-11-24 09:41:58 [INFO]\t\n",
      "------------Environment Information-------------\n",
      "platform: Linux-4.13.0-36-generic-x86_64-with-debian-stretch-sid\n",
      "Python: 3.7.4 (default, Aug 13 2019, 20:35:49) [GCC 7.3.0]\n",
      "Paddle compiled with cuda: True\n",
      "NVCC: Cuda compilation tools, release 10.1, V10.1.243\n",
      "cudnn: 7.6\n",
      "GPUs used: 1\n",
      "CUDA_VISIBLE_DEVICES: None\n",
      "GPU: ['GPU 0: Tesla V100-SXM2-16GB']\n",
      "GCC: gcc (Ubuntu 7.5.0-3ubuntu1~16.04) 7.5.0\n",
      "PaddlePaddle: 2.2.0\n",
      "OpenCV: 4.1.1\n",
      "------------------------------------------------\n",
      "Namespace(D_remain=True, batch_size=10, checkpoint_dir='./checkpoints/voc_semi_0_125', data_dir='/home/aistudio/data/data4379/pascalvoc/VOCdevkit/VOC2012', data_list='./data/voc_list/train_aug.txt', gpu=0, ignore_label=255, input_size='321,321', is_training=False, iter_size=1, labeled_ratio=0.125, lambda_adv_pred=0.1, lambda_semi=0.1, lambda_semi_adv=0.001, learning_rate=0.00025, learning_rate_D=0.0001, mask_T=0.2, model='DeepLabv2', momentum=0.9, not_restore_last=False, num_classes=21, num_steps=20000, num_workers=4, partial_id=None, power=0.9, pretrained_backbone='https://bj.bcebos.com/paddleseg/dygraph/resnet101_vd_ssld.tar.gz', random_mirror=False, random_scale=False, restore_from_D=None, save_num_images=2, save_pred_every=5000, seed=1234, semi_start=5000, semi_start_adv=0, split_id=None, use_vdl=True, weight_decay=0.0005)\n",
      "W1124 09:41:58.562929   600 device_context.cc:447] Please NOTE: device: 0, GPU Compute Capability: 7.0, Driver API Version: 11.0, Runtime API Version: 10.1\n",
      "W1124 09:41:58.562971   600 device_context.cc:465] device: 0, cuDNN Version: 7.6.\n",
      "2021-11-24 09:42:01 [INFO]\tLoading pretrained model from https://bj.bcebos.com/paddleseg/dygraph/resnet101_vd_ssld.tar.gz\n",
      "INFO:filelock:Lock 140463821079440 acquired on /home/aistudio/.paddleseg/tmp/resnet101_vd_ssld\n",
      "INFO:filelock:Lock 140463821079440 released on /home/aistudio/.paddleseg/tmp/resnet101_vd_ssld\n",
      "2021-11-24 09:42:03 [INFO]\tThere are 530/530 variables loaded into ResNet_vd.\n",
      "/home/aistudio/advSemiSeg/data/sampler.py:17: FutureWarning: Using a non-tuple sequence for multidimensional indexing is deprecated; use `arr[tuple(seq)]` instead of `arr[seq]`. In the future this will be interpreted as an array index, `arr[np.array(seq)]`, which will result either in an error or a different result.\n",
      "  return (self.indices[i] for i in paddle.randperm(len(self.indices)))\n",
      "--------------------------- dataloader construction done! --------------------------\n",
      "--------------------------- optimizer construction --------------------------\n",
      "--------------------------- optimizer construction done! --------------------------\n",
      "/opt/conda/envs/python35-paddle120-env/lib/python3.7/site-packages/paddle/nn/layer/norm.py:653: UserWarning: When training, we now always track global mean and variance.\n",
      "  \"When training, we now always track global mean and variance.\")\n",
      "D_out_sigmoid (10, 321, 321)\n",
      "train.py:329: DeprecationWarning: `np.bool` is a deprecated alias for the builtin `bool`. To silence this warning, use `bool` by itself. Doing this will not modify any behavior and is safe. If you specifically wanted the numpy scalar type, use `np.bool_` here.\n",
      "Deprecated in NumPy 1.20; for more details and guidance: https://numpy.org/devdocs/release/1.20.0-notes.html#deprecations\n",
      "  ignore_mask_remain = np.zeros(D_out_sigmoid.shape).astype(np.bool)\n",
      "/opt/conda/envs/python35-paddle120-env/lib/python3.7/site-packages/paddle/fluid/dygraph/math_op_patch.py:253: UserWarning: The dtype of left and right variables are not the same, left dtype is paddle.float32, but right dtype is paddle.int64, the right dtype will convert to paddle.float32\n",
      "  format(lhs_dtype, rhs_dtype, lhs_dtype))\n",
      "exp = ./checkpoints/voc_semi_0_125\n",
      "iter =        0/   20000, loss_seg = 3.436, loss_adv_p = 0.722, loss_D = 0.738, loss_semi = 0.000, loss_semi_adv = 0.715\n",
      "D_out_sigmoid (10, 321, 321)\n",
      "exp = ./checkpoints/voc_semi_0_125\n",
      "iter =        1/   20000, loss_seg = 3.294, loss_adv_p = 0.588, loss_D = 0.564, loss_semi = 0.000, loss_semi_adv = 0.586\n",
      "D_out_sigmoid (10, 321, 321)\n",
      "exp = ./checkpoints/voc_semi_0_125\n",
      "iter =        2/   20000, loss_seg = 2.764, loss_adv_p = 0.476, loss_D = 0.552, loss_semi = 0.000, loss_semi_adv = 0.478\n",
      "D_out_sigmoid (10, 321, 321)\n",
      "exp = ./checkpoints/voc_semi_0_125\n",
      "iter =        3/   20000, loss_seg = 2.737, loss_adv_p = 0.349, loss_D = 0.710, loss_semi = 0.000, loss_semi_adv = 0.338\n",
      "D_out_sigmoid (10, 321, 321)\n",
      "^C\n"
     ]
    }
   ],
   "source": [
    "!python train.py --checkpoint_dir ./checkpoints/voc_semi_0_125 --labeled-ratio 0.125 --ignore-label 255 --num-classes 21 --use_vdl"
   ]
  },
  {
   "cell_type": "markdown",
   "id": "2c0e4ab6-2105-4a21-9361-64e897eed774",
   "metadata": {},
   "source": [
    "## 评估advSemiSeg"
   ]
  },
  {
   "cell_type": "code",
   "execution_count": 5,
   "id": "afb72d55-9222-4a0b-b833-cab597adc3c1",
   "metadata": {
    "execution": {
     "iopub.execute_input": "2021-11-24T02:15:57.981528Z",
     "iopub.status.busy": "2021-11-24T02:15:57.980918Z",
     "iopub.status.idle": "2021-11-24T02:21:01.782448Z",
     "shell.execute_reply": "2021-11-24T02:21:01.781721Z",
     "shell.execute_reply.started": "2021-11-24T02:15:57.981492Z"
    }
   },
   "outputs": [
    {
     "name": "stdout",
     "output_type": "stream",
     "text": [
      "2021-11-24 10:15:59 [INFO]\t\n",
      "------------Environment Information-------------\n",
      "platform: Linux-4.13.0-36-generic-x86_64-with-debian-stretch-sid\n",
      "Python: 3.7.4 (default, Aug 13 2019, 20:35:49) [GCC 7.3.0]\n",
      "Paddle compiled with cuda: True\n",
      "NVCC: Cuda compilation tools, release 10.1, V10.1.243\n",
      "cudnn: 7.6\n",
      "GPUs used: 1\n",
      "CUDA_VISIBLE_DEVICES: None\n",
      "GPU: ['GPU 0: Tesla V100-SXM2-16GB']\n",
      "GCC: gcc (Ubuntu 7.5.0-3ubuntu1~16.04) 7.5.0\n",
      "PaddlePaddle: 2.2.0\n",
      "OpenCV: 4.1.1\n",
      "------------------------------------------------\n",
      "Namespace(data_dir='/home/aistudio/data/data4379/pascalvoc/VOCdevkit/VOC2012', data_list='./data/voc_list/val.txt', dataset='pascal_voc', gpu=0, ignore_label=255, model='Deeplabv2', num_classes=21, restore_from='./checkpoints/voc_semi_0_125/20000.pdparams', save_dir='results', save_output_images=False)\n",
      "W1124 10:15:59.974874  2351 device_context.cc:447] Please NOTE: device: 0, GPU Compute Capability: 7.0, Driver API Version: 11.0, Runtime API Version: 10.1\n",
      "W1124 10:15:59.974916  2351 device_context.cc:465] device: 0, cuDNN Version: 7.6.\n",
      "2021-11-24 10:16:03 [INFO]\tNo pretrained model to load, ResNet_vd will be trained from scratch.\n",
      "2021-11-24 10:16:03 [INFO]\tLoading pretrained model from ./checkpoints/voc_semi_0_125/20000.pdparams\n",
      "2021-11-24 10:16:03 [INFO]\tThere are 538/538 variables loaded into DeepLabV2.\n",
      "0 processd\n",
      "evaluate.py:238: DeprecationWarning: `np.int` is a deprecated alias for the builtin `int`. To silence this warning, use `int` by itself. Doing this will not modify any behavior and is safe. When replacing `np.int`, you may wish to use e.g. `np.int64` or `np.int32` to specify the precision. If you wish to review your current use, check the release note link for additional information.\n",
      "Deprecated in NumPy 1.20; for more details and guidance: https://numpy.org/devdocs/release/1.20.0-notes.html#deprecations\n",
      "  gt = np.asarray(label[0].numpy()[:size[0],:size[1]], dtype=np.int)\n",
      "evaluate.py:245: DeprecationWarning: `np.int` is a deprecated alias for the builtin `int`. To silence this warning, use `int` by itself. Doing this will not modify any behavior and is safe. When replacing `np.int`, you may wish to use e.g. `np.int64` or `np.int32` to specify the precision. If you wish to review your current use, check the release note link for additional information.\n",
      "Deprecated in NumPy 1.20; for more details and guidance: https://numpy.org/devdocs/release/1.20.0-notes.html#deprecations\n",
      "  output = np.asarray(np.argmax(output, axis=2), dtype=np.int)\n",
      "100 processd\n",
      "200 processd\n",
      "300 processd\n",
      "400 processd\n",
      "500 processd\n",
      "600 processd\n",
      "700 processd\n",
      "800 processd\n",
      "900 processd\n",
      "1000 processd\n",
      "1100 processd\n",
      "1200 processd\n",
      "1300 processd\n",
      "1400 processd\n",
      "class  0 background   IU 0.93\n",
      "class  1 aeroplane    IU 0.85\n",
      "class  2 bicycle      IU 0.41\n",
      "class  3 bird         IU 0.85\n",
      "class  4 boat         IU 0.67\n",
      "class  5 bottle       IU 0.78\n",
      "class  6 bus          IU 0.90\n",
      "class  7 car          IU 0.84\n",
      "class  8 cat          IU 0.84\n",
      "class  9 chair        IU 0.32\n",
      "class 10 cow          IU 0.72\n",
      "class 11 diningtable  IU 0.38\n",
      "class 12 dog          IU 0.81\n",
      "class 13 horse        IU 0.73\n",
      "class 14 motorbike    IU 0.81\n",
      "class 15 person       IU 0.83\n",
      "class 16 pottedplant  IU 0.44\n",
      "class 17 sheep        IU 0.78\n",
      "class 18 sofa         IU 0.43\n",
      "class 19 train        IU 0.72\n",
      "class 20 tvmonitor    IU 0.71\n",
      "meanIOU: 0.7040637094579905\n",
      "\n"
     ]
    }
   ],
   "source": [
    "!python evaluate.py --dataset pascal_voc --num-classes 21 --restore-from ./checkpoints/voc_semi_0_125/20000.pdparams "
   ]
  },
  {
   "cell_type": "markdown",
   "id": "257d79a3-7c02-4aec-b6b3-a779e4df2bed",
   "metadata": {},
   "source": [
    "## 训练 fully-supervised Baseline (FSL)"
   ]
  },
  {
   "cell_type": "code",
   "execution_count": null,
   "id": "38e44d19-71ba-4335-8458-cc621af6f8ac",
   "metadata": {},
   "outputs": [],
   "source": [
    "!python train_full_pd.py --dataset pascal_voc  \\\n",
    "                        --checkpoint-dir ./checkpoints/voc_full \\\n",
    "                        --ignore-label 255 \\\n",
    "                        --num-classes 21 "
   ]
  }
 ],
 "metadata": {
  "kernelspec": {
   "display_name": "Python 3",
   "language": "python",
   "name": "py35-paddle1.2.0"
  },
  "language_info": {
   "codemirror_mode": {
    "name": "ipython",
    "version": 3
   },
   "file_extension": ".py",
   "mimetype": "text/x-python",
   "name": "python",
   "nbconvert_exporter": "python",
   "pygments_lexer": "ipython3",
   "version": "3.7.4"
  }
 },
 "nbformat": 4,
 "nbformat_minor": 5
}
